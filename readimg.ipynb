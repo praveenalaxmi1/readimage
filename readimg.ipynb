import imutils
import cv2
image = cv2.imread("jp.png")
(h, w, d) = image.shape
print("width={}, height={}, depth={}".format(w, h, d))
cv2.imshow("Image", image)
cv2.waitKey(0)
